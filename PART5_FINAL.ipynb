{
 "cells": [
  {
   "cell_type": "markdown",
   "metadata": {},
   "source": [
    "# LIBRARIES"
   ]
  },
  {
   "cell_type": "code",
   "execution_count": 12,
   "metadata": {},
   "outputs": [],
   "source": [
    "from pandas_datareader import data as pdr\n",
    "import yfinance as yf\n",
    "import pandas as pd\n",
    "import numpy as np\n",
    "import datetime\n",
    "import collections\n",
    "from collections import OrderedDict\n",
    "from numpy import NaN, NAN,nan\n",
    "import statistics\n",
    "%run PART_2-FINAL.ipynb"
   ]
  },
  {
   "cell_type": "markdown",
   "metadata": {},
   "source": [
    "# DATA ENGINEERING"
   ]
  },
  {
   "cell_type": "code",
   "execution_count": 13,
   "metadata": {},
   "outputs": [
    {
     "name": "stdout",
     "output_type": "stream",
     "text": [
      "[*********************100%***********************]  1 of 1 completed\n",
      "[*********************100%***********************]  1 of 1 completed\n",
      "[*********************100%***********************]  1 of 1 completed\n",
      "[*********************100%***********************]  1 of 1 completed\n",
      "[*********************100%***********************]  1 of 1 completed\n",
      "[*********************100%***********************]  1 of 1 completed\n",
      "[*********************100%***********************]  1 of 1 completed\n",
      "[*********************100%***********************]  1 of 1 completed\n",
      "[*********************100%***********************]  1 of 1 completed\n"
     ]
    }
   ],
   "source": [
    "all_data={}\n",
    "for column in ['AAL','ALK','CEA','ZNH','VLRS','CPA','DAL','GOL','UAL']:\n",
    "    all_data[column]=yf.download(column, start = '2014-06-02', end='2016-06-13')\n",
    "\n",
    "luvdf=pd.read_csv('LUV.csv')\n",
    "luvdf['Date'] = pd.to_datetime(luvdf['Date'])\n",
    "luvdf.index = luvdf['Date']\n",
    "luvdf = luvdf.drop(columns = ['Date'])\n",
    "luvdf = luvdf.iloc[21:]\n",
    "luvdf=luvdf.iloc[:-1]\n",
    "\n",
    "dict1={ 'Date':np.array([k for k in all_data['AAL'].index])}\n",
    "for column in ['AAL','ALK','CEA','ZNH','VLRS','CPA','DAL','GOL','UAL']:\n",
    "    dict1[column]=np.array([k for k in all_data[column]['Adj Close']])\n",
    "price_industry = pd.DataFrame(dict1) \n",
    "price_industry.index = price_industry['Date']\n",
    "price_industry = price_industry.drop(columns = ['Date'])\n",
    "\n",
    "price_return=price_industry.pct_change(periods = 1)\n",
    "price_return=price_return.replace(to_replace=[NaN],value=0)\n",
    "\n"
   ]
  },
  {
   "cell_type": "markdown",
   "metadata": {},
   "source": [
    "# Trading System"
   ]
  },
  {
   "cell_type": "code",
   "execution_count": 14,
   "metadata": {},
   "outputs": [],
   "source": [
    "class Trading_strategy:\n",
    "    def __init__(self,ob):\n",
    "        self.todays_date = datetime.datetime.now().date()\n",
    "        self.index = pd.date_range(self.todays_date, periods=1)\n",
    "        self.columns = ['AdjClose_luv','AdjClose_ind']\n",
    "        self.df= pd.DataFrame(index=self.index, columns=self.columns)\n",
    "        self.df=self.df.drop(self.df.index[0])\n",
    "        \n",
    "        self.signals=pd.DataFrame(index=self.df.index,columns=['ind_signal','luv_signal',\"positions\"])        \n",
    "        self.ob1 = ob\n",
    "        \n",
    "    \n",
    "    def process_tick(self, adujusted_price,industry_price,volume):\n",
    "        self.todays_date+=datetime.timedelta(days=1)\n",
    "        row = pd.Series({'AdjClose_luv':adujusted_price,\"AdjClose_ind\":industry_price},name=self.todays_date)\n",
    "        self.df = self.df.append(row)\n",
    "        \n",
    "        row2=pd.Series({'ind_signal':0.0,'luv_signal':0.0,\"positions\":0.0},name=self.todays_date)\n",
    "        self.signals = self.signals.append(row2)\n",
    "        \n",
    "       \n",
    "        self.check_signal()\n",
    "\n",
    "        if np.array(self.signals[\"positions\"])[-1]==1:\n",
    "             self.generate_buy_order(adujusted_price,volume)\n",
    "        elif np.array(self.signals[\"positions\"])[-1]==-1:\n",
    "            self.generate_sell_order(adujusted_price,volume)\n",
    "            \n",
    "        \n",
    "        \n",
    "    def check_signal(self):\n",
    "        # Create short simple moving average over the short window\n",
    "        self.signals['ind_sma'] =np.array(self.df[\"AdjClose_ind\"].rolling(window=2, min_periods=1, center=False).mean())\n",
    "        self.signals['ind_lma'] = np.array(self.df[\"AdjClose_ind\"].rolling(window=14, min_periods=1, center=False).mean())\n",
    "\n",
    "        # Create short simple moving average over the short window\n",
    "        self.signals['luv_sma'] =np.array(self.df['AdjClose_luv'].rolling(window=2, min_periods=1, center=False).mean())\n",
    "        self.signals['luv_lma'] = np.array(self.df['AdjClose_luv'].rolling(window=14, min_periods=1, center=False).mean())\n",
    "        \n",
    "        if self.signals.shape[0]>1:\n",
    "            self.signals['ind_signal'][2:] = np.where(self.signals['ind_sma'][2:] > self.signals['ind_lma'][2:], 1.0, 0.0)   \n",
    "            for i in range(2,self.signals[\"luv_signal\"].shape[0]):\n",
    "                if self.signals['luv_sma'][i]>self.signals['luv_lma'][i]:\n",
    "                    if any(self.signals['ind_signal'][i-10:i+1]):\n",
    "                        self.signals['luv_signal'][i]=1\n",
    "            self.signals['positions'] = self.signals['luv_signal'].diff() \n",
    "            \n",
    "    def generate_buy_order(self,adjusted_price,volume):\n",
    "        order={'price':adjusted_price, 'quantity':volume, 'exchange' :\"NYSE\", 'side' :\"BID\"}\n",
    "        self.ob1.process_tick(order)\n",
    "        print(\"BUY\",adjusted_price,self.todays_date)\n",
    "    def generate_sell_order(self,adjusted_price,volume):\n",
    "        order={'price':adjusted_price, 'quantity':volume, 'exchange' :\"NYSE\", 'side' :\"OFFER\"}\n",
    "        self.ob1.process_tick(order)\n",
    "        print(\"SELL\",adjusted_price,self.todays_date)  \n",
    "        \n",
    "        "
   ]
  },
  {
   "cell_type": "markdown",
   "metadata": {},
   "source": [
    "# EXECUTION"
   ]
  },
  {
   "cell_type": "code",
   "execution_count": 15,
   "metadata": {},
   "outputs": [
    {
     "name": "stdout",
     "output_type": "stream",
     "text": [
      "$$$$$$$$$$$$$$$$$$$$$$$$$$$$$$$$$$$$$$$$$$$$$$$$$$$$$$$$$$$$$$$$$$$$$$$$$$$$$$$$$$$$$$$$$$$$$$$$\n",
      "BUY 14.544648 2020-11-07\n",
      "SELL 14.073248000000001 2020-11-09\n",
      "BUY 14.397335 2020-11-14\n",
      "SELL 15.467806 2020-11-19\n",
      "BUY 15.320494 2020-11-21\n",
      "SELL 15.448164000000002 2020-12-03\n",
      "BUY 14.780348000000002 2020-12-27\n",
      "SELL 13.474178 2020-12-30\n",
      "BUY 13.552744 2021-01-02\n",
      "SELL 13.849301 2021-01-14\n",
      "BUY 9.348278 2021-02-22\n",
      "SELL 8.873445 2021-02-23\n",
      "BUY 8.804198 2021-03-02\n",
      "SELL 9.19 2021-03-14\n",
      "BUY 6.73 2021-03-29\n",
      "SELL 6.73 2021-04-08\n",
      "BUY 6.25 2021-04-28\n",
      "SELL 5.92 2021-04-30\n",
      "BUY 6.26 2021-05-03\n",
      "SELL 6.11 2021-05-11\n",
      "BUY 6.35 2021-05-20\n",
      "SELL 5.81 2021-05-22\n",
      "BUY 5.43 2021-06-03\n",
      "SELL 5.13 2021-06-05\n",
      "BUY 5.22 2021-06-07\n",
      "SELL 6.26 2021-06-23\n",
      "BUY 5.33 2021-07-20\n",
      "SELL 5.23 2021-07-21\n",
      "BUY 5.29 2021-07-23\n",
      "SELL 5.36 2021-07-28\n",
      "BUY 5.39 2021-07-29\n",
      "SELL 5.48 2021-08-08\n",
      "BUY 3.57 2021-09-20\n",
      "SELL 3.08 2021-09-28\n",
      "BUY 3.61 2021-10-01\n",
      "SELL 3.41 2021-10-07\n",
      "BUY 3.39 2021-10-16\n",
      "SELL 3.42 2021-10-27\n",
      "BUY 3.45 2021-10-28\n",
      "SELL 3.33 2021-10-29\n",
      "BUY 3.36 2021-11-05\n",
      "SELL 3.28 2021-11-11\n",
      "BUY 3.44 2021-11-14\n",
      "SELL 3.58 2021-11-15\n",
      "BUY 3.67 2021-11-20\n",
      "SELL 3.42 2021-11-26\n",
      "BUY 1.69 2021-12-31\n",
      "SELL 1.65 2022-01-08\n",
      "BUY 1.61 2022-01-21\n",
      "SELL 2.34 2022-02-02\n",
      "BUY 2.78 2022-02-04\n",
      "SELL 2.74 2022-02-06\n",
      "BUY 2.54 2022-02-21\n",
      "SELL 2.13 2022-02-25\n",
      "BUY 2.18 2022-02-27\n",
      "SELL 2.16 2022-02-28\n",
      "BUY 2.22 2022-03-01\n",
      "SELL 2.56 2022-03-04\n",
      "******************************************************************************************\n",
      "orderbook\n",
      "BID ('NYSE', {'price': 2.22, 'quantity': 1439700})\n",
      "OFFER ('ARCA', {'price': 0, 'quantity': 0})\n"
     ]
    }
   ],
   "source": [
    "ob=Orderbook()\n",
    "ts_new=Trading_strategy(ob)\n",
    "list1=luvdf['Adj Close'].values\n",
    "list2=price_industry.mean(axis=1)\n",
    "list3=luvdf['Volume'].values\n",
    "\n",
    "for i in range(len(list1)):\n",
    "    ts_new.process_tick(list1[i],list2[i],list3[i])\n",
    "    \n",
    "print(\"******************************************************************************************\")\n",
    "print(\"orderbook\")\n",
    "ob.display_top_of_book()"
   ]
  },
  {
   "cell_type": "code",
   "execution_count": null,
   "metadata": {},
   "outputs": [],
   "source": []
  }
 ],
 "metadata": {
  "kernelspec": {
   "display_name": "Python 3",
   "language": "python",
   "name": "python3"
  },
  "language_info": {
   "codemirror_mode": {
    "name": "ipython",
    "version": 3
   },
   "file_extension": ".py",
   "mimetype": "text/x-python",
   "name": "python",
   "nbconvert_exporter": "python",
   "pygments_lexer": "ipython3",
   "version": "3.7.8"
  }
 },
 "nbformat": 4,
 "nbformat_minor": 2
}
