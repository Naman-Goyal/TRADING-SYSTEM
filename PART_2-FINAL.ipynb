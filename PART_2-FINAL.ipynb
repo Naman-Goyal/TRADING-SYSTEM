{
 "cells": [
  {
   "cell_type": "code",
   "execution_count": null,
   "metadata": {},
   "outputs": [],
   "source": [
    "import pandas as pd\n",
    "import numpy as np\n",
    "import statistics\n",
    "import datetime as dt\n",
    "import matplotlib\n",
    "import matplotlib.pyplot as plt\n",
    "from collections import OrderedDict\n",
    "\n",
    "\n",
    "exchange_names=[\"ARCA\",\"EDEX\",\"NYSE\"]\n",
    "file_names=['arca_aapl.csv','edgex_aapl.csv','nyse_aapl.csv']\n",
    "exchanges_df=[pd.read_csv(i) for i in file_names]\n",
    "for i in exchanges_df:\n",
    "    times= i['Time'].apply((lambda x: x.zfill(8)))\n",
    "    i.index = times\n",
    "    i = i.drop(columns=['Time'],inplace=True)\n",
    "\n",
    "\n",
    "full_data=pd.concat(exchanges_df)\n",
    "full_data.sort_index(inplace=True)\n",
    "side_mapping = {\n",
    "    1 : 'BID',\n",
    "    2: 'OFFER',\n",
    "}\n",
    "\n",
    "full_data.Side = full_data.Side.map(side_mapping)\n",
    "pd.set_option('display.max_columns', 10) \n",
    "pd.set_option('display.max_rows', 100000)  \n",
    "pd.set_option('display.max_colwidth', -1)"
   ]
  },
  {
   "cell_type": "code",
   "execution_count": null,
   "metadata": {},
   "outputs": [],
   "source": [
    "class Orderbook:\n",
    "    \n",
    "    def __init__(self):\n",
    "        self.bid={}\n",
    "        self.offer={}\n",
    "        print(\"$$$$$$$$$$$$$$$$$$$$$$$$$$$$$$$$$$$$$$$$$$$$$$$$$$$$$$$$$$$$$$$$$$$$$$$$$$$$$$$$$$$$$$$$$$$$$$$$\")\n",
    "        self.bid['ARCA']={'price':0, 'quantity':0 }\n",
    "        self.bid['EDGEX']={'price':0, 'quantity':0 }\n",
    "        self.bid['NYSE']={'price':0, 'quantity':0 }\n",
    "\n",
    "        self.offer['ARCA']={'price':0, 'quantity':0 }\n",
    "        self.offer['EDGEX']={'price':0, 'quantity':0 }\n",
    "        self.offer['NYSE']={'price':0, 'quantity':0 }\n",
    "\n",
    "    def process_tick(self,order):\n",
    "        if order['side']=='BID':\n",
    "            self.bid[order['exchange']].update({'price' : order['price'], 'quantity':order['quantity']})\n",
    "        \n",
    "        elif order['side']==\"OFFER\":\n",
    "            self.offer[order['exchange']].update({'price' : order['price'], 'quantity' :order['quantity']})\n",
    "           \n",
    "        self.top_of_book()\n",
    "        \n",
    "    def top_of_book(self):\n",
    "        self.od1 = OrderedDict(sorted(self.bid.items(), key=lambda x: x[1]['price'], reverse=True))\n",
    "        self.od2 = OrderedDict(sorted(self.offer.items(), key=lambda x: x[1]['price'], reverse=False))\n",
    "        print(\"BID\",list(self.od1.items())[0]) \n",
    "        print(\"OFFER\",list(self.od2.items())[0]) \n",
    "        print(\"************************************************************\")\n",
    "        \n",
    "  #ANOTHER APPROACH      \n",
    "#         max_price=self.bid['ARCA']['price']\n",
    "#         quantity=self.bid['ARCA']['quantity']\n",
    "#         exchang_max='ARCA'\n",
    "\n",
    "#         for key,val in self.bid.items():\n",
    "#             if val['price']>max_price:\n",
    "#                 max_price=val['price']\n",
    "#                 quantity=val['quantity']\n",
    "#                 exchang_max=key\n",
    "#         print(\"BID\",max_price,quantity,exchang_max) \n",
    "\n",
    "\n",
    "#         min_price=self.offer['ARCA']['price']\n",
    "#         quantity=self.offer['ARCA']['quantity']\n",
    "#         exchang_min='ARCA'\n",
    "\n",
    "#         for key,val in self.offer.items():\n",
    "#             if val['price']<min_price:\n",
    "#                 min_price=val['price']\n",
    "#                 quantity=val['quantity']\n",
    "#                 exchang_min=key\n",
    "#         print(\"OFFER\",min_price,quantity,exchang_min) \n",
    "#         print(\"************************************************************\")\n",
    "    \n",
    "    def getBidVolumeBetween(self,price1, price2):\n",
    "        vol=0\n",
    "        for key,val in self.od1.items():\n",
    "            if val['price']<=price2 and val['price']>=price1:\n",
    "                vol+=val['quantity']\n",
    "        return vol\n",
    "    def getOfferVolumeBetween(self,price1, price2):\n",
    "        vol=0\n",
    "        for key,val in self.od2.items():\n",
    "            if val['price']<=price2 and val['price']>=price1:\n",
    "                vol+=val['quantity']\n",
    "        return vol\n",
    "        "
   ]
  },
  {
   "cell_type": "code",
   "execution_count": null,
   "metadata": {
    "scrolled": false
   },
   "outputs": [],
   "source": [
    "ob1 = Orderbook()\n",
    "pprice=[i for i in full_data['Price']]\n",
    "qquantity=[i for i in full_data['Volume']]\n",
    "sside=[i for i in full_data['Side']]\n",
    "eexchange=[i for i in full_data['Exchange']]\n",
    "for i in range(0,len(pprice)):\n",
    "    order={'price':pprice[i], 'quantity':qquantity[i], 'exchange' :eexchange[i], 'side' :sside[i]}\n",
    "    ob1.process_tick(order)#uncomment print statements in class"
   ]
  },
  {
   "cell_type": "code",
   "execution_count": null,
   "metadata": {},
   "outputs": [],
   "source": [
    "ob1.getBidVolumeBetween(100,120)"
   ]
  },
  {
   "cell_type": "code",
   "execution_count": null,
   "metadata": {},
   "outputs": [],
   "source": []
  },
  {
   "cell_type": "code",
   "execution_count": null,
   "metadata": {},
   "outputs": [],
   "source": []
  },
  {
   "cell_type": "code",
   "execution_count": null,
   "metadata": {},
   "outputs": [],
   "source": []
  }
 ],
 "metadata": {
  "kernelspec": {
   "display_name": "Python 3",
   "language": "python",
   "name": "python3"
  },
  "language_info": {
   "codemirror_mode": {
    "name": "ipython",
    "version": 3
   },
   "file_extension": ".py",
   "mimetype": "text/x-python",
   "name": "python",
   "nbconvert_exporter": "python",
   "pygments_lexer": "ipython3",
   "version": "3.6.6"
  }
 },
 "nbformat": 4,
 "nbformat_minor": 2
}
