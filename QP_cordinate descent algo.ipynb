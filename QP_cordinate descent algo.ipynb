{
 "cells": [
  {
   "cell_type": "markdown",
   "metadata": {},
   "source": [
    "#IEOR 4500 HW 1 due September 18\n",
    "\n",
    "Use the data in \"russell_prices.txt\" available on Courseworks, for 947 assets\n",
    "over 504 days\n",
    "\n",
    "1. Compute sample mean returns and sample covariance matrix.\n",
    "2. Implement coordinate descent algorithm for mean-variance portfolio optimization problem.  Here each asset can have weight between 0 and 1.  You can use Python, Java, C or C++.\n",
    "3. For lambda = 0, how many assets do you have in your optimal basket, and what risk (total variance) do you have?\n",
    "4. Plot an approximate risk (variance) v. return curve by running the optimization over different choices of lambda.  What is the smallest variance you see\n",
    "in any of these optimizations?\n",
    "5. Let s2_0 be the variance you reported in #3, and let s2_min be the variance\n",
    "you reported in #4.  Define s2_mid = 0.5(s2_0 + s2_min).  Estimate the value of\n",
    "lambda needed so that your optimal portfolio has variance s2_mid."
   ]
  },
  {
   "cell_type": "code",
   "execution_count": 87,
   "metadata": {},
   "outputs": [],
   "source": [
    "import numpy as np\n",
    "import pandas as pd\n",
    "import matplotlib.pyplot as plt\n",
    "from scipy.interpolate import interp1d\n",
    "\n",
    "# Part 1\n",
    "df = pd.read_csv('russell_prices.txt', sep=' ', header=None, skiprows=2)  # Dropping first two rows\n",
    "df = df.drop(504, 1)\n",
    "data = df.to_numpy()\n",
    "\n",
    "# Calculating returns #df.apply(lambda x: (x[j]-x[j-1]) / x[j-1], axis=1)\n",
    "sample_returns=(data[:,1:504]-data[:,0:503])/data[:,0:503]\n",
    "\n",
    "# Calculating Means of returns\n",
    "sample_mean_returns = np.mean(sample_returns, axis=1)#mu's computed\n",
    "\n",
    "# Calculating Covariance Matrix of returns\n",
    "sample_cov_matrix = np.cov(sample_returns)\n",
    "\n",
    "# Part 2\n",
    "\n",
    "def get_feasible_x(l, u):\n",
    "    # step 1: get feasible solution\n",
    "    # Assigning lower limit to all values of x\n",
    "    x = np.array(l)\n",
    "    \n",
    "    # Checking if summation of x is exceeding 1, problem would be infeasible (no solution exist)\n",
    "    if x.sum() > 1:\n",
    "        raise Exception('The problem is infeasible! Sum of all lower bounds larger than 1')\n",
    "    # Checking if summation of x is close to 1\n",
    "    elif abs(x.sum() - 1) < 0.01:\n",
    "        return x\n",
    "    else:\n",
    "        i = 0\n",
    "        while x.sum() <= 1 and i <= 946:\n",
    "            if 1 - x.sum() <= (u[i] - l[i]):\n",
    "                x[i] = x[i] + 1 - x.sum()\n",
    "                return x\n",
    "            else:\n",
    "                x[i] = u[i]\n",
    "                i += 1\n",
    "                    # If all of the above conditions does not staisfy, \n",
    "                    #it means summation of smaller than 1 and x = u(upper limit), feasible solution does not exist\n",
    "    raise Exception('The problem is infeasible! Sum of all upper bounds smaller than 1')\n",
    "\n",
    "def get_a_b(h, k, cov_matrix, lamda, x, returns):\n",
    "\n",
    "    a = lamda*(cov_matrix[h, h]+cov_matrix[k, k]+2 * cov_matrix[h, k])\n",
    "    \n",
    "    sums=sum((cov_matrix[:,k]-cov_matrix[:,h])*x[:]+  x[h]*(cov_matrix[h, k] - cov_matrix[h, h])\n",
    "             + x[k]*(cov_matrix[k,k]-cov_matrix[h,k]))\n",
    "    \n",
    "    b = 2 * lamda*(sums-(cov_matrix[h,k]-cov_matrix[h,h])*x[h]-(cov_matrix[k,k]-cov_matrix[k,h])*x[k])+(returns[h] - returns[k])\n",
    "    return a,b\n",
    "\n",
    "def find_shift(l, u, h, k, cov_matrix, lamda, x, returns):\n",
    "    a, b = get_a_b(h, k, cov_matrix, lamda, x, returns)\n",
    "    max_shift = min(x[h] - l[h], u[k] - x[k])\n",
    "    min_shift = min(u[h] - x[h], x[k] - l[k])\n",
    "    if a != 0:\n",
    "        # have first derivative = zero\n",
    "        shift = -b / (2 * a)\n",
    "        if -min_shift <= shift and shift <= max_shift:\n",
    "            return shift\n",
    "        elif shift < -min_shift:\n",
    "            return -min_shift\n",
    "        else:\n",
    "            return max_shift\n",
    "    else:\n",
    "        # when a==0, to minimize the expression b*shift\n",
    "        if b >= 0:\n",
    "            return -min_shift\n",
    "        else:\n",
    "            return max_shift\n",
    "def mean_variance_opt(l, u, lamda, sample_cov_matrix, sample_mean_returns, max_count=10000):\n",
    "    # first step get x.sum to 1\n",
    "    x = get_feasible_x(l, u)\n",
    "    count = 0\n",
    "    while(count<=max_count):\n",
    "        for h in range(946):\n",
    "            for k in range(h + 1, 947):\n",
    "                if x[h] == l[h] and x[k] == l[k]:\n",
    "                    continue\n",
    "                count += 1\n",
    "                if count >= max_count:\n",
    "                    return x\n",
    "                shift = find_shift(l, u, h, k, sample_cov_matrix, lamda, x, sample_mean_returns)\n",
    "                x[k] += shift\n",
    "                x[h] -= shift\n",
    "    return x\n",
    "    "
   ]
  },
  {
   "cell_type": "code",
   "execution_count": 88,
   "metadata": {},
   "outputs": [
    {
     "name": "stdout",
     "output_type": "stream",
     "text": [
      "when lambda=0, total risk of my optimal basket is: 0.0186367839338458\n",
      "Total number of asset in my basket is: 1\n"
     ]
    },
    {
     "data": {
      "image/png": "[encoded data removed]",
      "text/plain": [
       "<Figure size 432x288 with 1 Axes>"
      ]
     },
     "metadata": {
      "needs_background": "light"
     },
     "output_type": "display_data"
    },
    {
     "data": {
      "image/png": "[encoded data removed]",
      "text/plain": [
       "<Figure size 432x288 with 1 Axes>"
      ]
     },
     "metadata": {
      "needs_background": "light"
     },
     "output_type": "display_data"
    },
    {
     "name": "stdout",
     "output_type": "stream",
     "text": [
      "min variance I have is: 0.0002638014749830368\n",
      "medium risk is: 0.009450292704414418\n",
      "The lambda estimate for s2_mid is: 0.06261985676109463\n"
     ]
    }
   ],
   "source": [
    "# Set lower & upper bounds bound of x\n",
    "l = np.full(947, 0, dtype=float)\n",
    "u = np.full(947, 1, dtype=float)\n",
    "x = mean_variance_opt(l, u, 0, sample_cov_matrix, sample_mean_returns)\n",
    "# Finding total risks\n",
    "def total_risk(x, cov_matrix):\n",
    "    return np.dot(np.dot(x, cov_matrix), x.T)\n",
    "def total_return(x, sample_mean_returns):\n",
    "    return np.dot(x, sample_mean_returns)\n",
    "\n",
    "# Question 3\n",
    "s2_0 = total_risk(x, sample_cov_matrix)\n",
    "print('when lambda=0, total risk of my optimal basket is:', s2_0)\n",
    "print('Total number of asset in my basket is:', np.count_nonzero(x))\n",
    "\n",
    "# Question 4\n",
    "\n",
    "# Creating list of lamba ranging from 0 to 0.5 with an increment step of 0.125\n",
    "lam = [i for i in np.linspace(0, 0.5, 5)]\n",
    "risks = []\n",
    "returns=[]\n",
    "for lamda in lam:\n",
    "    risks.append(total_risk(mean_variance_opt(l, u, lamda, sample_cov_matrix, sample_mean_returns), sample_cov_matrix))\n",
    "    returns.append(total_return(mean_variance_opt(l, u, lamda, sample_cov_matrix, sample_mean_returns),sample_mean_returns))\n",
    "\n",
    "# Plotting the graph of risk vs lambda\n",
    "plt.plot(lam, risks)\n",
    "plt.ylabel('total risks')\n",
    "plt.xlabel('lambda values')\n",
    "plt.savefig('HW1 Q4 Plot of variance.png')\n",
    "plt.show() \n",
    "\n",
    "#plot risk vs return \n",
    "plt.plot(risks, returns)\n",
    "plt.ylabel('total returns')\n",
    "plt.xlabel('total risks')\n",
    "plt.show() \n",
    "\n",
    "\n",
    "# Calculating minimum risk amongst all values of given risks\n",
    "min_risk = min(risks)\n",
    "print('min variance I have is:', min_risk)\n",
    "\n",
    "#question5\n",
    "# Calculating mid risk\n",
    "s2_mid = (s2_0 + min_risk) / 2\n",
    "print('medium risk is:', s2_mid)\n",
    "\n",
    "# Interpolating the value of lambda at mid risk by calculating function f\n",
    "f = interp1d(risks, lam)\n",
    "print('The lambda estimate for s2_mid is:', f(s2_mid))\n"
   ]
  },
  {
   "cell_type": "code",
   "execution_count": null,
   "metadata": {},
   "outputs": [],
   "source": []
  }
 ],
 "metadata": {
  "kernelspec": {
   "display_name": "Python 3",
   "language": "python",
   "name": "python3"
  },
  "language_info": {
   "codemirror_mode": {
    "name": "ipython",
    "version": 3
   },
   "file_extension": ".py",
   "mimetype": "text/x-python",
   "name": "python",
   "nbconvert_exporter": "python",
   "pygments_lexer": "ipython3",
   "version": "3.7.4"
  }
 },
 "nbformat": 4,
 "nbformat_minor": 2
}
